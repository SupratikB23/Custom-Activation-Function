{
  "nbformat": 4,
  "nbformat_minor": 0,
  "metadata": {
    "colab": {
      "provenance": []
    },
    "kernelspec": {
      "name": "python3",
      "display_name": "Python 3"
    },
    "language_info": {
      "name": "python"
    }
  },
  "cells": [
    {
      "cell_type": "code",
      "execution_count": null,
      "metadata": {
        "id": "yN9iIFcM65JX"
      },
      "outputs": [],
      "source": [
        "import numpy as np\n",
        "import pandas as pd\n",
        "import matplotlib.pyplot as plt\n",
        "from sklearn.metrics import f1_score"
      ]
    },
    {
      "cell_type": "code",
      "source": [
        "from google.colab import drive\n",
        "drive.mount('/content/drive')\n",
        "\n",
        "data = pd.read_csv('/content/drive/My Drive/Colab Notebooks/GDG ML Assignment/train.csv')"
      ],
      "metadata": {
        "colab": {
          "base_uri": "https://localhost:8080/"
        },
        "id": "u5wosoj868ll",
        "outputId": "6a43d88c-0289-427a-d753-54a3bcca3e27"
      },
      "execution_count": null,
      "outputs": [
        {
          "output_type": "stream",
          "name": "stdout",
          "text": [
            "Drive already mounted at /content/drive; to attempt to forcibly remount, call drive.mount(\"/content/drive\", force_remount=True).\n"
          ]
        }
      ]
    },
    {
      "cell_type": "code",
      "source": [
        "data = np.array(data)\n",
        "m, n = data.shape\n",
        "np.random.shuffle(data)\n",
        "\n",
        "data_dev = data[0:1000].T\n",
        "Y_dev = data_dev[0]\n",
        "X_dev = data_dev[1:n]\n",
        "X_dev = X_dev / 255.\n",
        "\n",
        "data_train = data[1000:m].T\n",
        "Y_train = data_train[0]\n",
        "X_train = data_train[1:n]\n",
        "X_train = X_train / 255.\n",
        "_, m_train = X_train.shape"
      ],
      "metadata": {
        "id": "GV3TcBeJ8ARv"
      },
      "execution_count": null,
      "outputs": []
    },
    {
      "cell_type": "markdown",
      "source": [
        "\n",
        "\n",
        "---\n",
        "\n"
      ],
      "metadata": {
        "id": "JbGuq4sqT67l"
      }
    },
    {
      "cell_type": "code",
      "source": [
        "def params():\n",
        "    w1 = np.random.rand(10, 784) - 0.5\n",
        "    b1 = np.random.rand(10, 1) - 0.5\n",
        "\n",
        "    w2 = np.random.rand(10, 10) - 0.5\n",
        "    b2 = np.random.rand(10, 1) - 0.5\n",
        "\n",
        "    w3 = np.random.rand(10, 10) - 0.5\n",
        "    b3 = np.random.rand(10, 1) - 0.5\n",
        "\n",
        "    return w1, b1, w2, b2, w3, b3\n",
        "\n",
        "def ada_act(z, k0, k1):\n",
        "    return k0 + k1*z\n",
        "\n",
        "def softmax(z):\n",
        "    a = np.exp(z) / sum(np.exp(z))\n",
        "    return a\n",
        "\n",
        "def forward_propagation(w1, b1, w2, b2, w3, b3, X, k0, k1):\n",
        "    z1 = w1.dot(X) + b1\n",
        "    a1 = ada_act(z1, k0, k1)\n",
        "\n",
        "    z2 = w2.dot(a1) + b2\n",
        "    a2 = ada_act(z2, k0, k1)\n",
        "\n",
        "    z3 = w3.dot(a2) + b3\n",
        "    a3 = softmax(z3)\n",
        "\n",
        "    return z1, a1, z2, a2, z3, a3\n",
        "\n",
        "def one_hot(Y):\n",
        "    one_hot_Y = np.zeros((Y.size, Y.max() + 1))\n",
        "    one_hot_Y[np.arange(Y.size), Y] = 1\n",
        "    one_hot_Y = one_hot_Y.T\n",
        "    return one_hot_Y\n",
        "\n",
        "def back_propagation(X, Y, z1, a1, z2, a2, z3, a3, w1, b1, w2, b2, w3, b3, k0, k1):\n",
        "    t = X.shape[1]\n",
        "    one_hot_Y = one_hot(Y)\n",
        "\n",
        "    dz3 = a3 - one_hot_Y\n",
        "    dw3 = (1 / t) * dz3.dot(a2.T)\n",
        "    db3 = np.mean(dz3, axis=1, keepdims=True)\n",
        "\n",
        "    da2 = w3.T.dot(dz3)\n",
        "    dz2 = k1 * da2\n",
        "    dw2 = (1 / t) * dz2.dot(a1.T)\n",
        "    db2 = np.mean(dz2, axis=1, keepdims=True)\n",
        "\n",
        "    dK2 = np.mean(da2 * z2, axis=1)\n",
        "\n",
        "    da1 = w2.T.dot(dz2)\n",
        "    dz1 = k1 * da1\n",
        "    dw1 = (1 / t) * dz1.dot(X.T)\n",
        "    db1 = np.mean(dz1, axis=1, keepdims=True)\n",
        "\n",
        "    dK1 = np.mean(da1 * z1, axis=1)\n",
        "\n",
        "    dK = dK2 + dK1\n",
        "\n",
        "    return dw1, db1, dw2, db2, dw3, db3, dK\n",
        "\n",
        "def update_params(w1, b1, w2, b2, w3, b3, dW1, db1, dW2, db2, dW3, db3, dK, k0, k1, alpha):\n",
        "    w1 -= alpha * dW1\n",
        "    b1 -= alpha * db1\n",
        "    w2 -= alpha * dW2\n",
        "    b2 -= alpha * db2\n",
        "    w3 -= alpha * dW3\n",
        "    b3 -= alpha * db3\n",
        "\n",
        "    k0 -= alpha * np.mean(dK)\n",
        "    k1 -= alpha * np.mean(dK)\n",
        "\n",
        "    return w1, b1, w2, b2, w3, b3, k0, k1"
      ],
      "metadata": {
        "id": "iGshV-iDT6KA"
      },
      "execution_count": null,
      "outputs": []
    },
    {
      "cell_type": "code",
      "source": [
        "def get_predictions(a3):\n",
        "    return np.argmax(a3, axis = 0)\n",
        "\n",
        "def get_accuracy(predictions, Y):\n",
        "    return np.sum(predictions == Y) / Y.size\n",
        "\n",
        "def cross_entropy_loss(y_pred, y_true):\n",
        "    y_pred = np.clip(y_pred, 1e-10, 1 - 1e-10)\n",
        "    t = y_true.shape[0]\n",
        "    return -np.sum(y_true * np.log(y_pred)) / t\n",
        "\n",
        "def gradient_descent(X_train, Y_train, X_dev, Y_dev, iterations, alpha):\n",
        "    w1, b1, w2, b2, w3, b3 = params()\n",
        "    k0 = 0\n",
        "    k1 = 1\n",
        "\n",
        "    train_losses = []\n",
        "    dev_losses = []\n",
        "    train_accuracies = []\n",
        "    dev_accuracies = []\n",
        "\n",
        "    for i in range(iterations):\n",
        "        z1, a1, z2, a2, z3, a3 = forward_propagation(w1, b1, w2, b2, w3, b3, X_train, k0, k1)\n",
        "        loss_train = cross_entropy_loss(a3, one_hot(Y_train))\n",
        "        predictions_train = get_predictions(a3)\n",
        "        accuracy_train = get_accuracy(predictions_train, Y_train)\n",
        "\n",
        "        _, _, _, _, _, a3_dev = forward_propagation(w1, b1, w2, b2, w3, b3, X_dev, k0, k1)\n",
        "        loss_dev = cross_entropy_loss(a3_dev, one_hot(Y_dev))\n",
        "        predictions_dev = get_predictions(a3_dev)\n",
        "        accuracy_dev = get_accuracy(predictions_dev, Y_dev)\n",
        "\n",
        "        train_losses.append(loss_train)\n",
        "        train_accuracies.append(accuracy_train)\n",
        "        dev_losses.append(loss_dev)\n",
        "        dev_accuracies.append(accuracy_dev)\n",
        "\n",
        "        dW1, db1, dW2, db2, dW3, db3, dK = back_propagation(X_train, Y_train, z1, a1, z2, a2, z3, a3, w1, b1, w2, b2, w3, b3, k0, k1)\n",
        "        w1, b1, w2, b2, w3, b3, k0, k1 = update_params(w1, b1, w2, b2, w3, b3, dW1, db1, dW2, db2, dW3, db3, dK, k0, k1, alpha)\n",
        "\n",
        "        if i % 10 == 0:\n",
        "            print(f\"Iteration {i}: \\nTrain Loss = {loss_train:.3f}, Dev Loss = {loss_dev:.3f}, \\nTrain Accuracy = {accuracy_train:.3f}, Dev Accuracy = {accuracy_dev:.3f}\")\n",
        "\n",
        "    return w1, b1, w2, b2, w3, b3, k0, k1, train_losses, dev_losses, train_accuracies, dev_accuracies"
      ],
      "metadata": {
        "id": "t4Eu0EnGa7TI"
      },
      "execution_count": null,
      "outputs": []
    },
    {
      "cell_type": "code",
      "source": [
        "w1, b1, w2, b2, w3, b3, k0, k1, train_losses, dev_losses, train_accuracies, dev_accuracies = gradient_descent(X_train, Y_train, X_dev, Y_dev, 500, 0.1)"
      ],
      "metadata": {
        "id": "ozgkxT67ckMv",
        "colab": {
          "base_uri": "https://localhost:8080/"
        },
        "outputId": "b305ab94-e899-4471-caf5-324e81b3ed4b"
      },
      "execution_count": null,
      "outputs": [
        {
          "output_type": "stream",
          "name": "stdout",
          "text": [
            "Iteration 0: \n",
            "Train Loss = 18464.246, Dev Loss = 443.118, \n",
            "Train Accuracy = 0.137, Dev Accuracy = 0.140\n",
            "Iteration 10: \n",
            "Train Loss = 8331.133, Dev Loss = 199.274, \n",
            "Train Accuracy = 0.325, Dev Accuracy = 0.345\n",
            "Iteration 20: \n",
            "Train Loss = 6903.197, Dev Loss = 165.815, \n",
            "Train Accuracy = 0.477, Dev Accuracy = 0.500\n",
            "Iteration 30: \n",
            "Train Loss = 5794.370, Dev Loss = 139.054, \n",
            "Train Accuracy = 0.559, Dev Accuracy = 0.570\n",
            "Iteration 40: \n",
            "Train Loss = 4984.742, Dev Loss = 119.313, \n",
            "Train Accuracy = 0.613, Dev Accuracy = 0.618\n",
            "Iteration 50: \n",
            "Train Loss = 4425.527, Dev Loss = 105.833, \n",
            "Train Accuracy = 0.654, Dev Accuracy = 0.666\n",
            "Iteration 60: \n",
            "Train Loss = 4026.225, Dev Loss = 96.397, \n",
            "Train Accuracy = 0.683, Dev Accuracy = 0.690\n",
            "Iteration 70: \n",
            "Train Loss = 3726.858, Dev Loss = 89.456, \n",
            "Train Accuracy = 0.708, Dev Accuracy = 0.716\n",
            "Iteration 80: \n",
            "Train Loss = 3494.775, Dev Loss = 84.162, \n",
            "Train Accuracy = 0.728, Dev Accuracy = 0.730\n",
            "Iteration 90: \n",
            "Train Loss = 3310.641, Dev Loss = 80.018, \n",
            "Train Accuracy = 0.743, Dev Accuracy = 0.740\n",
            "Iteration 100: \n",
            "Train Loss = 3161.465, Dev Loss = 76.693, \n",
            "Train Accuracy = 0.755, Dev Accuracy = 0.763\n",
            "Iteration 110: \n",
            "Train Loss = 3038.030, Dev Loss = 73.959, \n",
            "Train Accuracy = 0.766, Dev Accuracy = 0.774\n",
            "Iteration 120: \n",
            "Train Loss = 2933.780, Dev Loss = 71.656, \n",
            "Train Accuracy = 0.775, Dev Accuracy = 0.780\n",
            "Iteration 130: \n",
            "Train Loss = 2844.090, Dev Loss = 69.676, \n",
            "Train Accuracy = 0.783, Dev Accuracy = 0.786\n",
            "Iteration 140: \n",
            "Train Loss = 2765.697, Dev Loss = 67.943, \n",
            "Train Accuracy = 0.790, Dev Accuracy = 0.791\n",
            "Iteration 150: \n",
            "Train Loss = 2696.273, Dev Loss = 66.406, \n",
            "Train Accuracy = 0.796, Dev Accuracy = 0.796\n",
            "Iteration 160: \n",
            "Train Loss = 2634.127, Dev Loss = 65.027, \n",
            "Train Accuracy = 0.802, Dev Accuracy = 0.797\n",
            "Iteration 170: \n",
            "Train Loss = 2578.002, Dev Loss = 63.779, \n",
            "Train Accuracy = 0.806, Dev Accuracy = 0.803\n",
            "Iteration 180: \n",
            "Train Loss = 2526.942, Dev Loss = 62.642, \n",
            "Train Accuracy = 0.810, Dev Accuracy = 0.805\n",
            "Iteration 190: \n",
            "Train Loss = 2480.207, Dev Loss = 61.599, \n",
            "Train Accuracy = 0.814, Dev Accuracy = 0.806\n",
            "Iteration 200: \n",
            "Train Loss = 2437.207, Dev Loss = 60.638, \n",
            "Train Accuracy = 0.817, Dev Accuracy = 0.812\n",
            "Iteration 210: \n",
            "Train Loss = 2397.467, Dev Loss = 59.749, \n",
            "Train Accuracy = 0.820, Dev Accuracy = 0.815\n",
            "Iteration 220: \n",
            "Train Loss = 2360.596, Dev Loss = 58.922, \n",
            "Train Accuracy = 0.823, Dev Accuracy = 0.818\n",
            "Iteration 230: \n",
            "Train Loss = 2326.271, Dev Loss = 58.152, \n",
            "Train Accuracy = 0.826, Dev Accuracy = 0.821\n",
            "Iteration 240: \n",
            "Train Loss = 2294.216, Dev Loss = 57.433, \n",
            "Train Accuracy = 0.828, Dev Accuracy = 0.825\n",
            "Iteration 250: \n",
            "Train Loss = 2264.199, Dev Loss = 56.758, \n",
            "Train Accuracy = 0.832, Dev Accuracy = 0.829\n",
            "Iteration 260: \n",
            "Train Loss = 2236.019, Dev Loss = 56.125, \n",
            "Train Accuracy = 0.834, Dev Accuracy = 0.832\n",
            "Iteration 270: \n",
            "Train Loss = 2209.504, Dev Loss = 55.529, \n",
            "Train Accuracy = 0.836, Dev Accuracy = 0.834\n",
            "Iteration 280: \n",
            "Train Loss = 2184.500, Dev Loss = 54.966, \n",
            "Train Accuracy = 0.838, Dev Accuracy = 0.841\n",
            "Iteration 290: \n",
            "Train Loss = 2160.877, Dev Loss = 54.435, \n",
            "Train Accuracy = 0.840, Dev Accuracy = 0.843\n",
            "Iteration 300: \n",
            "Train Loss = 2138.516, Dev Loss = 53.933, \n",
            "Train Accuracy = 0.842, Dev Accuracy = 0.845\n",
            "Iteration 310: \n",
            "Train Loss = 2117.313, Dev Loss = 53.457, \n",
            "Train Accuracy = 0.844, Dev Accuracy = 0.845\n",
            "Iteration 320: \n",
            "Train Loss = 2097.175, Dev Loss = 53.005, \n",
            "Train Accuracy = 0.846, Dev Accuracy = 0.845\n",
            "Iteration 330: \n",
            "Train Loss = 2078.021, Dev Loss = 52.576, \n",
            "Train Accuracy = 0.847, Dev Accuracy = 0.847\n",
            "Iteration 340: \n",
            "Train Loss = 2059.775, Dev Loss = 52.167, \n",
            "Train Accuracy = 0.849, Dev Accuracy = 0.851\n",
            "Iteration 350: \n",
            "Train Loss = 2042.370, Dev Loss = 51.778, \n",
            "Train Accuracy = 0.850, Dev Accuracy = 0.852\n",
            "Iteration 360: \n",
            "Train Loss = 2025.745, Dev Loss = 51.407, \n",
            "Train Accuracy = 0.852, Dev Accuracy = 0.852\n",
            "Iteration 370: \n",
            "Train Loss = 2009.847, Dev Loss = 51.053, \n",
            "Train Accuracy = 0.853, Dev Accuracy = 0.851\n",
            "Iteration 380: \n",
            "Train Loss = 1994.624, Dev Loss = 50.714, \n",
            "Train Accuracy = 0.855, Dev Accuracy = 0.853\n",
            "Iteration 390: \n",
            "Train Loss = 1980.031, Dev Loss = 50.390, \n",
            "Train Accuracy = 0.856, Dev Accuracy = 0.851\n",
            "Iteration 400: \n",
            "Train Loss = 1966.027, Dev Loss = 50.080, \n",
            "Train Accuracy = 0.857, Dev Accuracy = 0.852\n",
            "Iteration 410: \n",
            "Train Loss = 1952.574, Dev Loss = 49.782, \n",
            "Train Accuracy = 0.858, Dev Accuracy = 0.851\n",
            "Iteration 420: \n",
            "Train Loss = 1939.636, Dev Loss = 49.496, \n",
            "Train Accuracy = 0.859, Dev Accuracy = 0.852\n",
            "Iteration 430: \n",
            "Train Loss = 1927.182, Dev Loss = 49.222, \n",
            "Train Accuracy = 0.860, Dev Accuracy = 0.852\n",
            "Iteration 440: \n",
            "Train Loss = 1915.183, Dev Loss = 48.958, \n",
            "Train Accuracy = 0.861, Dev Accuracy = 0.854\n",
            "Iteration 450: \n",
            "Train Loss = 1903.611, Dev Loss = 48.705, \n",
            "Train Accuracy = 0.862, Dev Accuracy = 0.854\n",
            "Iteration 460: \n",
            "Train Loss = 1892.441, Dev Loss = 48.460, \n",
            "Train Accuracy = 0.863, Dev Accuracy = 0.853\n",
            "Iteration 470: \n",
            "Train Loss = 1881.649, Dev Loss = 48.225, \n",
            "Train Accuracy = 0.864, Dev Accuracy = 0.854\n",
            "Iteration 480: \n",
            "Train Loss = 1871.216, Dev Loss = 47.998, \n",
            "Train Accuracy = 0.865, Dev Accuracy = 0.856\n",
            "Iteration 490: \n",
            "Train Loss = 1861.120, Dev Loss = 47.778, \n",
            "Train Accuracy = 0.865, Dev Accuracy = 0.857\n"
          ]
        }
      ]
    },
    {
      "cell_type": "code",
      "source": [
        "plt.plot(train_accuracies, label='Train Accuracies')\n",
        "plt.plot(dev_accuracies, label='Dev Accuracies')\n",
        "plt.title('Accuracies vs. Epochs')\n",
        "plt.xlabel('Epochs')\n",
        "plt.ylabel('Loss')\n",
        "plt.legend()\n",
        "plt.show()"
      ],
      "metadata": {
        "colab": {
          "base_uri": "https://localhost:8080/",
          "height": 472
        },
        "id": "x2djuOzGGFvy",
        "outputId": "13c6a846-600c-47eb-acd3-3938fd24e4dd"
      },
      "execution_count": null,
      "outputs": [
        {
          "output_type": "display_data",
          "data": {
            "text/plain": [
              "<Figure size 640x480 with 1 Axes>"
            ],
            "image/png": "[encoded data removed]"
          },
          "metadata": {}
        }
      ]
    },
    {
      "cell_type": "code",
      "source": [
        "plt.plot(train_losses, label='Train Loss')\n",
        "plt.plot(dev_losses, label='Dev Loss')\n",
        "plt.title('Loss vs. Epochs')\n",
        "plt.xlabel('Epochs')\n",
        "plt.ylabel('Loss')\n",
        "plt.legend()\n",
        "plt.show()"
      ],
      "metadata": {
        "colab": {
          "base_uri": "https://localhost:8080/"
        },
        "id": "Zhr0EA2CMgfK",
        "outputId": "15799178-adf9-411e-bc3f-a5a12f256adf"
      },
      "execution_count": null,
      "outputs": [
        {
          "output_type": "display_data",
          "data": {
            "text/plain": [
              "<Figure size 640x480 with 1 Axes>"
            ],
            "image/png": "[encoded data removed]"
          },
          "metadata": {}
        }
      ]
    },
    {
      "cell_type": "code",
      "source": [
        "final_predictions = get_predictions(forward_propagation(w1, b1, w2, b2, w3, b3, X_dev, k0, k1)[-1])\n",
        "f1 = f1_score(Y_dev, final_predictions, average='macro')\n",
        "print(f\"Final F1-Score: {f1}\")"
      ],
      "metadata": {
        "colab": {
          "base_uri": "https://localhost:8080/"
        },
        "id": "aZPewfN7MiaA",
        "outputId": "a041c648-92b1-42d7-b668-68b74e7db830"
      },
      "execution_count": null,
      "outputs": [
        {
          "output_type": "stream",
          "name": "stdout",
          "text": [
            "Final F1-Score: 0.8534946537857548\n"
          ]
        }
      ]
    }
  ]
}